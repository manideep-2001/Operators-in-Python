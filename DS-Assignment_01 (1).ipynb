{
 "cells": [
  {
   "cell_type": "markdown",
   "metadata": {},
   "source": [
    "**Q.1 Get the lengths of three sides of triangle. Find its semi-perimeter (Formula : s = (a+b+c)/2)**"
   ]
  },
  {
   "cell_type": "code",
   "execution_count": 1,
   "metadata": {},
   "outputs": [
    {
     "name": "stdout",
     "output_type": "stream",
     "text": [
      "Semi-perimeter of the triangle is 9.750000\n"
     ]
    }
   ],
   "source": [
    "a = 5.5\n",
    "b = 6.5\n",
    "c = 7.5\n",
    "s = (a+b+c)/2\n",
    "print(\"Semi-perimeter of the triangle is %f\" % s)"
   ]
  },
  {
   "cell_type": "markdown",
   "metadata": {},
   "source": [
    "<table>\n",
    "  <tr>\n",
    "  <td>**Expected Output:**<td>\n",
    "    <td>Semi-perimeter of the triangle is 9.750000</td>\n",
    "  </tr>\n",
    "</table>"
   ]
  },
  {
   "cell_type": "markdown",
   "metadata": {},
   "source": [
    "**Q.2 Given that radius of sphere is 4. Find its surface area (Formula : A=4 x π x $r^{2}$)**\n",
    "<br> Value of π you will get from math module.\n",
    "<br> For printing the output as shown in expected output refer previous question."
   ]
  },
  {
   "cell_type": "code",
   "execution_count": 2,
   "metadata": {},
   "outputs": [
    {
     "name": "stdout",
     "output_type": "stream",
     "text": [
      "Semi-perimeter of the triangle is 201.061930\n"
     ]
    }
   ],
   "source": [
    "import math\n",
    "\n",
    "r = 4\n",
    "\n",
    "a = (4)*(3.14159265)*(4**2)\n",
    "\n",
    "print(\"Semi-perimeter of the triangle is %f\" % a)"
   ]
  },
  {
   "cell_type": "markdown",
   "metadata": {},
   "source": [
    "<table>\n",
    "  <tr>\n",
    "  <td>**Expected Output:**<td>\n",
    "    <td>Surface area of sphere is 201.061930 </td>\n",
    "  </tr>\n",
    "</table>"
   ]
  },
  {
   "cell_type": "markdown",
   "metadata": {},
   "source": [
    "**Q.3 Given two sides of the triangle. Find its hypoteneuse. ($c^{2}$ = $a^{2}$ + $b^{2}$)**\n",
    "<br> Here, c is the hypoteneuse, a and b are the other 2 sides.\n",
    "<br> Use the above formula and then use sqrt to get the the value of c from $c^{2}$.\n",
    "<br> For printing the output as shown in expected output refer first question."
   ]
  },
  {
   "cell_type": "code",
   "execution_count": 4,
   "metadata": {},
   "outputs": [
    {
     "data": {
      "text/plain": [
       "5.0"
      ]
     },
     "execution_count": 4,
     "metadata": {},
     "output_type": "execute_result"
    }
   ],
   "source": [
    "a = 3 \n",
    "b = 4\n",
    "import numpy as np\n",
    "# c = x\n",
    "c = np.sqrt(3**2 + 4**2)\n",
    "c"
   ]
  },
  {
   "cell_type": "markdown",
   "metadata": {},
   "source": [
    "<table>\n",
    "  <tr>\n",
    "  <td>**Expected Output:**<td>\n",
    "    <td>Hypoteneuse of the triangle is 5.000000 </td>\n",
    "  </tr>\n",
    "</table>"
   ]
  },
  {
   "cell_type": "markdown",
   "metadata": {
    "collapsed": true
   },
   "source": [
    "# Thank you\n"
   ]
  },
  {
   "cell_type": "code",
   "execution_count": null,
   "metadata": {},
   "outputs": [],
   "source": []
  }
 ],
 "metadata": {
  "kernelspec": {
   "display_name": "Python 3 (ipykernel)",
   "language": "python",
   "name": "python3"
  },
  "language_info": {
   "codemirror_mode": {
    "name": "ipython",
    "version": 3
   },
   "file_extension": ".py",
   "mimetype": "text/x-python",
   "name": "python",
   "nbconvert_exporter": "python",
   "pygments_lexer": "ipython3",
   "version": "3.9.13"
  }
 },
 "nbformat": 4,
 "nbformat_minor": 2
}
